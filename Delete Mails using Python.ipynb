{
 "cells": [
  {
   "cell_type": "markdown",
   "metadata": {},
   "source": [
    "# How To Automatically Delete Mails In Python:\n"
   ]
  },
  {
   "cell_type": "markdown",
   "metadata": {},
   "source": [
    "### Import the required Libraries"
   ]
  },
  {
   "cell_type": "code",
   "execution_count": null,
   "metadata": {},
   "outputs": [],
   "source": [
    "import imaplib\n",
    "import email\n",
    "from email.header import decode_header\n",
    "\n",
    "# account credentials\n",
    "username = \"youremailaddress@provider.com\"\n",
    "# remember this is an App-generated Password, use this link https://support.google.com/accounts/answer/185833, to learn more\n",
    "password = \"yourpassword\""
   ]
  },
  {
   "cell_type": "code",
   "execution_count": null,
   "metadata": {},
   "outputs": [],
   "source": [
    "# create an IMAP4 class with SSL \n",
    "imap = imaplib.IMAP4_SSL(\"imap.gmail.com\")\n",
    "# authenticate\n",
    "imap.login(username, password)"
   ]
  },
  {
   "cell_type": "code",
   "execution_count": null,
   "metadata": {},
   "outputs": [],
   "source": [
    "# select the mailbox I want to delete in\n",
    "# if you want SPAM, use imap.select(\"SPAM\") instead\n",
    "imap.select(\"INBOX\")"
   ]
  },
  {
   "cell_type": "code",
   "execution_count": null,
   "metadata": {},
   "outputs": [],
   "source": [
    "# search for specific mails by sender\n",
    "status, messages = imap.search(None, 'FROM \"googlealerts-noreply@google.com\"')\n",
    "# to get mails by subject\n",
    "status, messages = imap.search(None, 'SUBJECT \"Thanks for Subscribing to our Newsletter !\"')\n",
    "# to get mails after a specific date\n",
    "status, messages = imap.search(None, 'SINCE \"01-JAN-2020\"')\n",
    "# to get mails before a specific date\n",
    "status, messages = imap.search(None, 'BEFORE \"01-JAN-2020\"')\n",
    "# to get all mails\n",
    "status, messages = imap.search(None, \"ALL\")"
   ]
  },
  {
   "cell_type": "code",
   "execution_count": null,
   "metadata": {},
   "outputs": [],
   "source": [
    "# convert messages to a list of email IDs\n",
    "messages = messages[0].split(b' ')"
   ]
  },
  {
   "cell_type": "markdown",
   "metadata": {},
   "source": [
    "### Now let's iterate over targeted mails and mark them as deleted:"
   ]
  },
  {
   "cell_type": "code",
   "execution_count": null,
   "metadata": {},
   "outputs": [],
   "source": [
    "for mail in messages:\n",
    "    _, msg = imap.fetch(mail, \"(RFC822)\")\n",
    "    # you can delete the for loop for performance if you have a long list of emails\n",
    "    # because it is only for printing the SUBJECT of target email to delete\n",
    "    for response in msg:\n",
    "        if isinstance(response, tuple):\n",
    "            msg = email.message_from_bytes(response[1])\n",
    "            # decode the email subject\n",
    "            subject = decode_header(msg[\"Subject\"])[0][0]\n",
    "            if isinstance(subject, bytes):\n",
    "                # if it's a bytes type, decode to str\n",
    "                subject = subject.decode()\n",
    "            print(\"Deleting\", subject)\n",
    "    # mark the mail as deleted\n",
    "    imap.store(mail, \"+FLAGS\", \"\\\\Deleted\")"
   ]
  },
  {
   "cell_type": "code",
   "execution_count": null,
   "metadata": {},
   "outputs": [],
   "source": [
    "imap.expunge()\n",
    "# close the mailbox\n",
    "imap.close()\n",
    "# logout from the account\n",
    "imap.logout()"
   ]
  }
 ],
 "metadata": {
  "kernelspec": {
   "display_name": "Python 3",
   "language": "python",
   "name": "python3"
  },
  "language_info": {
   "codemirror_mode": {
    "name": "ipython",
    "version": 3
   },
   "file_extension": ".py",
   "mimetype": "text/x-python",
   "name": "python",
   "nbconvert_exporter": "python",
   "pygments_lexer": "ipython3",
   "version": "3.8.5"
  }
 },
 "nbformat": 4,
 "nbformat_minor": 4
}
